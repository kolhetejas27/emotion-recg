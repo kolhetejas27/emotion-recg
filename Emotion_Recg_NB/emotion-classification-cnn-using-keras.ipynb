{
 "cells": [
  {
   "cell_type": "markdown",
   "metadata": {},
   "source": [
    "# Notes"
   ]
  },
  {
   "cell_type": "markdown",
   "metadata": {},
   "source": [
    "ANN -> Artificial Neural Network (Models used in deep learning are called as ANN).\n",
    "ANN are computing systems that are inspired by the brain's neural network.\n",
    "These networks are based on collection of connected units called neurons which transmit and receive signals from each other.\n",
    "Neurons are organized in layers.\n",
    "- Input Layer\n",
    "- Hidden Layer\n",
    "- Output Layer\n",
    "(Neurons are basically some functions which perform calculations)\n",
    "\n",
    "____________________________________________________________________\n",
    "\n",
    "To Build an ANN we can use Neural Network API called as Keras.\n",
    "In Keras we can build sequential model. Keras defines this sequential models as a linear stack of layers. (Neurons are also organized in layers)\n",
    "\n",
    "Dense -> Type of layer\n",
    "Dense(No. of neurons, Shape of data we are passing into our model, activation funtion) \n",
    "\n",
    "____________________________________________________________________\n",
    "\n",
    "Layers in an ANN:-\n",
    "- Dense (or fully connected) layers\n",
    "- Convolution Layers (can be used where model is with image data) \n",
    "- Pooling Layers\n",
    "- Recurrent Layers (can be used where model is with time series data) \n",
    "- Normalization Layers\n",
    "- Others....\n",
    "\n",
    "______________________________________________________________________\n",
    "\n",
    "CNN -> Convolution Neural Network\n",
    "It is an ANN popularly used for analyzing images. They can also be used for other data analysis or classificatin problems.\n",
    "It picks out patterns and makes sense out of them making it is usefull in image analysis. \n",
    "CNN have convolutional layers (CL) which receives input, transforms it in someway and then outputs it. CL have filters which detect patterns like edges, shapes, objects, etc.\n",
    "\n",
    "_______________________________________________________________________\n",
    "\n",
    "[1]\n",
    "Pre-req: \n",
    "What a tensor is?\n",
    "-> Tensors are simply mathematical objects that can be used to describe physical properties, just like scalars and vectors. (Imagine a Matirx)\n",
    "\n",
    "What is overfitting?\n",
    "-> Overfitting happens when your model fits too well to the training set.  For example, your model recognizes specific images in your training set instead of general patterns.\n",
    "\n",
    "---------------\n",
    "keras.layers:-\n",
    "Layers are the basic building blocks of neural networks in Keras. A layer consists of a tensor-in tensor-out computation function.\n",
    "\n",
    "Dense (Core Layer)\n",
    "Input (Core Layer)\n",
    "Dropout (Helps to randomly sets input units to 0 at each step during training time, which helps prevent overfitting.)\n",
    "GlobalAveragePooling2D (Pooling layers basically helps in the reduction of overfitting by the time of training of the model by compressing or generalizing the features)\n",
    "Flatten (Flattening is converting the data into a 1-dimensional array for inputting it to the next layer)\n",
    "Conv2D (2D convolution layer)\n",
    "BatchNormalization (Layer that normalizes its inputs)\n",
    "Activation (Core layer)\n",
    "MaxPooling2D \n",
    "\n",
    "keras.models:-\n",
    "3 ways to Create Keras Models -> One of them is: Sequential Model\n",
    "-> The Sequential model, which is very straightforward (a simple list of layers), but is limited to single-input, single-output stacks of layers.\n",
    "\n",
    "keras.optimizers:-\n",
    "An optimizer is one of the two arguments required for compiling a Keras model.\n",
    "Different optimizers -> Adam, SGD, RMSprop"
   ]
  },
  {
   "cell_type": "markdown",
   "metadata": {},
   "source": [
    "# Dataset"
   ]
  },
  {
   "cell_type": "markdown",
   "metadata": {},
   "source": [
    "https://www.kaggle.com/msambare/fer2013\n",
    "By Google, available on Kaggle. Ian Goodfellow is the author."
   ]
  },
  {
   "cell_type": "markdown",
   "metadata": {},
   "source": [
    "# Importing Libraries"
   ]
  },
  {
   "cell_type": "code",
   "execution_count": 1,
   "metadata": {
    "_cell_guid": "b1076dfc-b9ad-4769-8c92-a6c4dae69d19",
    "_uuid": "8f2839f25d086af736a60e9eeb907d3b93b6e0e5"
   },
   "outputs": [],
   "source": [
    "# Importing libraries for data exploration and Visualization.\n",
    "import matplotlib.pyplot as plt\n",
    "import numpy as np\n",
    "import pandas as pd\n",
    "import seaborn as sns\n",
    "\n",
    "# To access system files.\n",
    "import os\n",
    "\n",
    "# Importing Deep Learning Libraries\n",
    "\n",
    "# To load images and convert image to array -> to fit into the model easily (Model will not take image, it will only take array form)\n",
    "from keras.preprocessing.image import load_img, img_to_array\n",
    "\n",
    "# \n",
    "from keras.preprocessing.image import ImageDataGenerator\n",
    "\n",
    "# Importing Important layers:-\n",
    "\"\"\"\n",
    "Notes [1]\n",
    "\"\"\"\n",
    "from keras.layers import Dense,Input,Dropout,GlobalAveragePooling2D,Flatten,Conv2D,BatchNormalization,Activation,MaxPooling2D\n",
    "from keras.models import Model,Sequential\n",
    "from tensorflow.keras.optimizers import Adam,SGD,RMSprop"
   ]
  },
  {
   "cell_type": "markdown",
   "metadata": {},
   "source": [
    "# Displaying Images (Data Exploration)"
   ]
  },
  {
   "cell_type": "code",
   "execution_count": 4,
   "metadata": {
    "_cell_guid": "79c7e3d0-c299-4dcb-8224-4455121ee9b0",
    "_uuid": "d629ff2d2480ee46fbb7e2d37f6b5fab8052498a"
   },
   "outputs": [],
   "source": [
    "# Standardizing the size of picture since all of them may not be of same size.\n",
    "picture_size = 48\n",
    "\n",
    "\n",
    "# Setting the folder_path to dataset of images\n",
    "folder_path = \"../../EMR 1/archive/\""
   ]
  },
  {
   "cell_type": "code",
   "execution_count": 3,
   "metadata": {},
   "outputs": [
    {
     "ename": "FileNotFoundError",
     "evalue": "[WinError 3] The system cannot find the path specified: '../../EMR 1/archive/train/happy'",
     "output_type": "error",
     "traceback": [
      "\u001b[1;31m---------------------------------------------------------------------------\u001b[0m",
      "\u001b[1;31mFileNotFoundError\u001b[0m                         Traceback (most recent call last)",
      "\u001b[1;32m~\\AppData\\Local\\Temp/ipykernel_4440/2236818658.py\u001b[0m in \u001b[0;36m<module>\u001b[1;34m\u001b[0m\n\u001b[0;32m      6\u001b[0m     \u001b[0mplt\u001b[0m\u001b[1;33m.\u001b[0m\u001b[0msubplot\u001b[0m\u001b[1;33m(\u001b[0m\u001b[1;36m3\u001b[0m\u001b[1;33m,\u001b[0m\u001b[1;36m3\u001b[0m\u001b[1;33m,\u001b[0m\u001b[0mi\u001b[0m\u001b[1;33m)\u001b[0m\u001b[1;33m\u001b[0m\u001b[1;33m\u001b[0m\u001b[0m\n\u001b[0;32m      7\u001b[0m     img = load_img(folder_path+\"train/\"+expression+\"/\"+\n\u001b[1;32m----> 8\u001b[1;33m                   os.listdir(folder_path + \"train/\" + expression)[i], target_size=(picture_size, picture_size))\n\u001b[0m\u001b[0;32m      9\u001b[0m     \u001b[0mplt\u001b[0m\u001b[1;33m.\u001b[0m\u001b[0mimshow\u001b[0m\u001b[1;33m(\u001b[0m\u001b[0mimg\u001b[0m\u001b[1;33m)\u001b[0m\u001b[1;33m\u001b[0m\u001b[1;33m\u001b[0m\u001b[0m\n\u001b[0;32m     10\u001b[0m \u001b[0mplt\u001b[0m\u001b[1;33m.\u001b[0m\u001b[0mshow\u001b[0m\u001b[1;33m(\u001b[0m\u001b[1;33m)\u001b[0m\u001b[1;33m\u001b[0m\u001b[1;33m\u001b[0m\u001b[0m\n",
      "\u001b[1;31mFileNotFoundError\u001b[0m: [WinError 3] The system cannot find the path specified: '../../EMR 1/archive/train/happy'"
     ]
    },
    {
     "data": {
      "image/png": "[encoded data removed]",
      "text/plain": [
       "<Figure size 864x864 with 1 Axes>"
      ]
     },
     "metadata": {
      "needs_background": "light"
     },
     "output_type": "display_data"
    }
   ],
   "source": [
    "# Plotting images just for reference and exploration.\n",
    "expression = 'happy'\n",
    "\n",
    "plt.figure(figsize= (12,12))\n",
    "for i in range(1, 10, 1):\n",
    "    plt.subplot(3,3,i)\n",
    "    img = load_img(folder_path+\"train/\"+expression+\"/\"+\n",
    "                  os.listdir(folder_path + \"train/\" + expression)[i], target_size=(picture_size, picture_size))\n",
    "    plt.imshow(img)   \n",
    "plt.show()"
   ]
  },
  {
   "cell_type": "markdown",
   "metadata": {},
   "source": [
    "# Making Training and Testing Data"
   ]
  },
  {
   "cell_type": "code",
   "execution_count": 9,
   "metadata": {},
   "outputs": [
    {
     "name": "stdout",
     "output_type": "stream",
     "text": [
      "Found 28709 images belonging to 7 classes.\n",
      "Found 7178 images belonging to 7 classes.\n"
     ]
    }
   ],
   "source": [
    "# Batch Size depicts the number of training example models should take in one iteration.\n",
    "batch_size  = 128\n",
    "\n",
    "\"\"\"\n",
    "ImageDataGenerator:-\n",
    "So basically what happens is that instead of doing the hard (computation-intensive or memory-intensive) job as a whole, \n",
    "it breaks it down into batches and work on it as a batch. This way the parent function which invokes the child function \n",
    "does not have to wait until the parent function is done processing but can work on the go.\n",
    "\n",
    "It is not feasible for large dataset to be loaded into the memory at once, if we create a data generator, \n",
    "we can read images on the go when they will be used for training. \n",
    "\n",
    "Keras provides a data generator for image datasets. The advantage of using ImageDataGenerator is that it will generate batches \n",
    "of data with augmentation.\n",
    "\"\"\"\n",
    "\n",
    "datagen_train  = ImageDataGenerator()\n",
    "datagen_test = ImageDataGenerator()\n",
    "\n",
    "# Data from the directory is taken into the ImageDataGenerator\n",
    "\n",
    "\"\"\"\n",
    "The flow_from_directory() method allows you to read the images directly from the directory and augment them\n",
    "while the neural network model is learning on the training data.\n",
    "Here, class_mode is categorical because we have different classes like anger, disgust, happy, sad, surprise, neutral.\n",
    "\"\"\"\n",
    "train_set = datagen_train.flow_from_directory(folder_path+\"train\",\n",
    "                                              target_size = (picture_size,picture_size),\n",
    "                                              color_mode = \"grayscale\",\n",
    "                                              batch_size=batch_size,\n",
    "                                              class_mode='categorical',\n",
    "                                              shuffle=True)\n",
    "\n",
    "\n",
    "test_set = datagen_test.flow_from_directory(folder_path+\"test\",\n",
    "                                              target_size = (picture_size,picture_size),\n",
    "                                              color_mode = \"grayscale\",\n",
    "                                              batch_size=batch_size,\n",
    "                                              class_mode='categorical',\n",
    "                                              shuffle=False)"
   ]
  },
  {
   "cell_type": "markdown",
   "metadata": {},
   "source": [
    "# Model Building"
   ]
  },
  {
   "cell_type": "code",
   "execution_count": 10,
   "metadata": {},
   "outputs": [
    {
     "name": "stdout",
     "output_type": "stream",
     "text": [
      "Model: \"sequential\"\n",
      "_________________________________________________________________\n",
      " Layer (type)                Output Shape              Param #   \n",
      "=================================================================\n",
      " conv2d (Conv2D)             (None, 48, 48, 64)        640       \n",
      "                                                                 \n",
      " batch_normalization (BatchN  (None, 48, 48, 64)       256       \n",
      " ormalization)                                                   \n",
      "                                                                 \n",
      " activation (Activation)     (None, 48, 48, 64)        0         \n",
      "                                                                 \n",
      " max_pooling2d (MaxPooling2D  (None, 24, 24, 64)       0         \n",
      " )                                                               \n",
      "                                                                 \n",
      " dropout (Dropout)           (None, 24, 24, 64)        0         \n",
      "                                                                 \n",
      " conv2d_1 (Conv2D)           (None, 24, 24, 128)       204928    \n",
      "                                                                 \n",
      " batch_normalization_1 (Batc  (None, 24, 24, 128)      512       \n",
      " hNormalization)                                                 \n",
      "                                                                 \n",
      " activation_1 (Activation)   (None, 24, 24, 128)       0         \n",
      "                                                                 \n",
      " max_pooling2d_1 (MaxPooling  (None, 12, 12, 128)      0         \n",
      " 2D)                                                             \n",
      "                                                                 \n",
      " dropout_1 (Dropout)         (None, 12, 12, 128)       0         \n",
      "                                                                 \n",
      " conv2d_2 (Conv2D)           (None, 12, 12, 512)       590336    \n",
      "                                                                 \n",
      " batch_normalization_2 (Batc  (None, 12, 12, 512)      2048      \n",
      " hNormalization)                                                 \n",
      "                                                                 \n",
      " activation_2 (Activation)   (None, 12, 12, 512)       0         \n",
      "                                                                 \n",
      " max_pooling2d_2 (MaxPooling  (None, 6, 6, 512)        0         \n",
      " 2D)                                                             \n",
      "                                                                 \n",
      " dropout_2 (Dropout)         (None, 6, 6, 512)         0         \n",
      "                                                                 \n",
      " conv2d_3 (Conv2D)           (None, 6, 6, 512)         2359808   \n",
      "                                                                 \n",
      " batch_normalization_3 (Batc  (None, 6, 6, 512)        2048      \n",
      " hNormalization)                                                 \n",
      "                                                                 \n",
      " activation_3 (Activation)   (None, 6, 6, 512)         0         \n",
      "                                                                 \n",
      " max_pooling2d_3 (MaxPooling  (None, 3, 3, 512)        0         \n",
      " 2D)                                                             \n",
      "                                                                 \n",
      " dropout_3 (Dropout)         (None, 3, 3, 512)         0         \n",
      "                                                                 \n",
      " flatten (Flatten)           (None, 4608)              0         \n",
      "                                                                 \n",
      " dense (Dense)               (None, 256)               1179904   \n",
      "                                                                 \n",
      " batch_normalization_4 (Batc  (None, 256)              1024      \n",
      " hNormalization)                                                 \n",
      "                                                                 \n",
      " activation_4 (Activation)   (None, 256)               0         \n",
      "                                                                 \n",
      " dropout_4 (Dropout)         (None, 256)               0         \n",
      "                                                                 \n",
      " dense_1 (Dense)             (None, 512)               131584    \n",
      "                                                                 \n",
      " batch_normalization_5 (Batc  (None, 512)              2048      \n",
      " hNormalization)                                                 \n",
      "                                                                 \n",
      " activation_5 (Activation)   (None, 512)               0         \n",
      "                                                                 \n",
      " dropout_5 (Dropout)         (None, 512)               0         \n",
      "                                                                 \n",
      " dense_2 (Dense)             (None, 7)                 3591      \n",
      "                                                                 \n",
      "=================================================================\n",
      "Total params: 4,478,727\n"
     ]
    },
    {
     "name": "stderr",
     "output_type": "stream",
     "text": [
      "C:\\Users\\prem\\anaconda3\\lib\\site-packages\\keras\\optimizer_v2\\adam.py:105: UserWarning: The `lr` argument is deprecated, use `learning_rate` instead.\n",
      "  super(Adam, self).__init__(name, **kwargs)\n"
     ]
    },
    {
     "name": "stdout",
     "output_type": "stream",
     "text": [
      "Trainable params: 4,474,759\n",
      "Non-trainable params: 3,968\n",
      "_________________________________________________________________\n"
     ]
    }
   ],
   "source": [
    "no_of_classes = 7\n",
    "\n",
    "model = Sequential()\n",
    "\n",
    "\"\"\"\n",
    "Conv2D - This layer creates a convolution kernel that is convolved with the layer input to produce a tensor of outputs.\n",
    "When using this layer as the first layer in a model, provide the keyword argument input_shape.\n",
    "-> Arguments:\n",
    "    - filters (64): Integer, the dimensionality of the output space (i.e. the number of output filters in the convolution).\n",
    "    - kernel_size (3,3): An integer or tuple/list of 2 integers, specifying the height and width of the 2D convolution window.\n",
    "    - padding: one of \"valid\" or \"same\" (case-insensitive). \"valid\" means no padding. \"same\" results in padding with zeros evenly to the left/right or up/down of the input. \n",
    "    - input_shape (shape,shape,img_type)\n",
    "    \n",
    "BatchNormalization - Layer that normalizes its inputs\n",
    "\n",
    "Activation - It deicdes what data should be fired for the next layer.\n",
    "'relu' -> Rectified Linear Unit, outputs positive orz ero\n",
    "\"\"\"\n",
    "\n",
    "#1st CNN layer\n",
    "model.add(Conv2D(64,(3,3),padding = 'same',input_shape = (48,48,1)))\n",
    "model.add(BatchNormalization())\n",
    "model.add(Activation('relu'))\n",
    "model.add(MaxPooling2D(pool_size = (2,2)))\n",
    "model.add(Dropout(0.25))\n",
    "\n",
    "#2nd CNN layer\n",
    "model.add(Conv2D(128,(5,5),padding = 'same'))\n",
    "model.add(BatchNormalization())\n",
    "model.add(Activation('relu'))\n",
    "model.add(MaxPooling2D(pool_size = (2,2)))\n",
    "model.add(Dropout (0.25))\n",
    "\n",
    "#3rd CNN layer\n",
    "model.add(Conv2D(512,(3,3),padding = 'same'))\n",
    "model.add(BatchNormalization())\n",
    "model.add(Activation('relu'))\n",
    "model.add(MaxPooling2D(pool_size = (2,2)))\n",
    "model.add(Dropout (0.25))\n",
    "\n",
    "#4th CNN layer\n",
    "model.add(Conv2D(512,(3,3), padding='same'))\n",
    "model.add(BatchNormalization())\n",
    "model.add(Activation('relu'))\n",
    "model.add(MaxPooling2D(pool_size=(2, 2)))\n",
    "model.add(Dropout(0.25))\n",
    "\n",
    "# Collapse the input to 1D array which can be fed into the model easily.\n",
    "model.add(Flatten())\n",
    "\n",
    "#Fully connected 1st layer\n",
    "model.add(Dense(256))\n",
    "model.add(BatchNormalization())\n",
    "model.add(Activation('relu'))\n",
    "model.add(Dropout(0.25))\n",
    "\n",
    "\n",
    "# Fully connected layer 2nd layer\n",
    "model.add(Dense(512))\n",
    "model.add(BatchNormalization())\n",
    "model.add(Activation('relu'))\n",
    "model.add(Dropout(0.25))\n",
    "\n",
    "\n",
    "model.add(Dense(no_of_classes, activation='softmax'))\n",
    "\n",
    "\n",
    "\n",
    "opt = Adam(lr = 0.0001)\n",
    "model.compile(optimizer=opt,loss='categorical_crossentropy', metrics=['accuracy'])\n",
    "model.summary()"
   ]
  },
  {
   "cell_type": "markdown",
   "metadata": {},
   "source": [
    "# Fitting the Model with Training and Validation Data "
   ]
  },
  {
   "cell_type": "code",
   "execution_count": 13,
   "metadata": {},
   "outputs": [],
   "source": [
    "from keras.callbacks import ModelCheckpoint, EarlyStopping, ReduceLROnPlateau\n",
    "\n",
    "\"\"\"\n",
    "A callback is an object that can perform actions at various stages of training.\n",
    "ModelCheckpoint - Callback to save the Keras model or model weights at some frequency.\n",
    "EarlyStopping - Stop training when a monitored metric has stopped improving.\n",
    " - monitor: Quantity to be monitored.\n",
    " - min_delta: Minimum change in the monitored quantity to qualify as an improvement\n",
    " - patience: Number of epochs with no improvement after which training will be stopped.\n",
    " - verbose: verbosity mode\n",
    " - restore_best_weights: Whether to restore model weights from the epoch with the best value of the monitored quantity.\n",
    "ReduceLROnPlateau - Reduce learning rate when a metric has stopped improving.\n",
    " - factor: factor by which the learning rate will be reduced.\n",
    " - min_delta: threshold for measuring the new optimum, to only focus on significant changes.\n",
    "\"\"\"\n",
    "# Checks and saves model\n",
    "checkpoint = ModelCheckpoint(\"./model.h5\", monitor='val_acc', verbose=1, save_best_only=True, mode='max')\n",
    "\n",
    "early_stopping = EarlyStopping(monitor='val_loss',\n",
    "                          min_delta=0,\n",
    "                          patience=3,\n",
    "                          verbose=1,\n",
    "                          restore_best_weights=True\n",
    "                          )\n",
    "\n",
    "reduce_learningrate = ReduceLROnPlateau(monitor='val_loss',\n",
    "                              factor=0.2,\n",
    "                              patience=3,\n",
    "                              verbose=1,\n",
    "                              min_delta=0.0001)\n",
    "\n",
    "callbacks_list = [early_stopping,checkpoint,reduce_learningrate]\n",
    "\n",
    "epochs = 11"
   ]
  },
  {
   "cell_type": "code",
   "execution_count": 14,
   "metadata": {},
   "outputs": [
    {
     "name": "stderr",
     "output_type": "stream",
     "text": [
      "<ipython-input-14-981791b505f2>:1: UserWarning: `Model.fit_generator` is deprecated and will be removed in a future version. Please use `Model.fit`, which supports generators.\n",
      "  history = model.fit_generator(generator=train_set,\n"
     ]
    },
    {
     "name": "stdout",
     "output_type": "stream",
     "text": [
      "Epoch 1/11\n",
      "224/224 [==============================] - ETA: 0s - loss: 1.4947 - accuracy: 0.4326WARNING:tensorflow:Can save best model only with val_acc available, skipping.\n",
      "224/224 [==============================] - 700s 3s/step - loss: 1.4947 - accuracy: 0.4326 - val_loss: 1.3670 - val_accuracy: 0.4678 - lr: 0.0010\n",
      "Epoch 2/11\n",
      "224/224 [==============================] - ETA: 0s - loss: 1.2848 - accuracy: 0.5042WARNING:tensorflow:Can save best model only with val_acc available, skipping.\n",
      "224/224 [==============================] - 721s 3s/step - loss: 1.2848 - accuracy: 0.5042 - val_loss: 1.4844 - val_accuracy: 0.4713 - lr: 0.0010\n",
      "Epoch 3/11\n",
      "224/224 [==============================] - ETA: 0s - loss: 1.1832 - accuracy: 0.5508WARNING:tensorflow:Can save best model only with val_acc available, skipping.\n",
      "224/224 [==============================] - 818s 4s/step - loss: 1.1832 - accuracy: 0.5508 - val_loss: 1.3694 - val_accuracy: 0.4662 - lr: 0.0010\n",
      "Epoch 4/11\n",
      "224/224 [==============================] - ETA: 0s - loss: 1.1127 - accuracy: 0.5788WARNING:tensorflow:Can save best model only with val_acc available, skipping.\n",
      "224/224 [==============================] - 624s 3s/step - loss: 1.1127 - accuracy: 0.5788 - val_loss: 1.1877 - val_accuracy: 0.5512 - lr: 0.0010\n",
      "Epoch 5/11\n",
      "224/224 [==============================] - ETA: 0s - loss: 1.0622 - accuracy: 0.5972WARNING:tensorflow:Can save best model only with val_acc available, skipping.\n",
      "224/224 [==============================] - 701s 3s/step - loss: 1.0622 - accuracy: 0.5972 - val_loss: 1.1616 - val_accuracy: 0.5675 - lr: 0.0010\n",
      "Epoch 6/11\n",
      "224/224 [==============================] - ETA: 0s - loss: 1.0075 - accuracy: 0.6186WARNING:tensorflow:Can save best model only with val_acc available, skipping.\n",
      "224/224 [==============================] - 681s 3s/step - loss: 1.0075 - accuracy: 0.6186 - val_loss: 1.3184 - val_accuracy: 0.4948 - lr: 0.0010\n",
      "Epoch 7/11\n",
      "224/224 [==============================] - ETA: 0s - loss: 0.9641 - accuracy: 0.6336WARNING:tensorflow:Can save best model only with val_acc available, skipping.\n",
      "224/224 [==============================] - 691s 3s/step - loss: 0.9641 - accuracy: 0.6336 - val_loss: 1.1653 - val_accuracy: 0.5490 - lr: 0.0010\n",
      "Epoch 8/11\n",
      "224/224 [==============================] - ETA: 0s - loss: 0.9176 - accuracy: 0.6504WARNING:tensorflow:Can save best model only with val_acc available, skipping.\n",
      "224/224 [==============================] - 692s 3s/step - loss: 0.9176 - accuracy: 0.6504 - val_loss: 1.1085 - val_accuracy: 0.5900 - lr: 0.0010\n",
      "Epoch 9/11\n",
      "224/224 [==============================] - ETA: 0s - loss: 0.8699 - accuracy: 0.6737WARNING:tensorflow:Can save best model only with val_acc available, skipping.\n",
      "224/224 [==============================] - 669s 3s/step - loss: 0.8699 - accuracy: 0.6737 - val_loss: 1.1179 - val_accuracy: 0.5831 - lr: 0.0010\n",
      "Epoch 10/11\n",
      "224/224 [==============================] - ETA: 0s - loss: 0.8339 - accuracy: 0.6899WARNING:tensorflow:Can save best model only with val_acc available, skipping.\n",
      "224/224 [==============================] - 587s 3s/step - loss: 0.8339 - accuracy: 0.6899 - val_loss: 1.2842 - val_accuracy: 0.5465 - lr: 0.0010\n",
      "Epoch 11/11\n",
      "224/224 [==============================] - ETA: 0s - loss: 0.7844 - accuracy: 0.7071WARNING:tensorflow:Can save best model only with val_acc available, skipping.\n",
      "224/224 [==============================] - 584s 3s/step - loss: 0.7844 - accuracy: 0.7071 - val_loss: 1.1033 - val_accuracy: 0.6016 - lr: 0.0010\n"
     ]
    }
   ],
   "source": [
    "\"\"\"\n",
    "generator : a generator whose output must be a list\n",
    "steps_per_epoch : it specifies the total number of steps taken from the generator\n",
    " as soon as one epoch is finished and next epoch has started.\n",
    "Epochs : an integer and number of epochs we want to train our model for.\n",
    "\"\"\"\n",
    "history = model.fit_generator(generator=train_set,\n",
    "                                steps_per_epoch=train_set.n//train_set.batch_size,\n",
    "                                epochs=epochs,\n",
    "                                validation_data = test_set,\n",
    "                                validation_steps = test_set.n//test_set.batch_size,\n",
    "                                callbacks=callbacks_list\n",
    "                                )"
   ]
  },
  {
   "cell_type": "markdown",
   "metadata": {},
   "source": [
    "# Plotting Accuracy & Loss"
   ]
  },
  {
   "cell_type": "code",
   "execution_count": 15,
   "metadata": {
    "scrolled": false
   },
   "outputs": [
    {
     "data": {
      "image/png": "[encoded data removed]",
      "text/plain": [
       "<Figure size 1440x720 with 2 Axes>"
      ]
     },
     "metadata": {
      "needs_background": "light"
     },
     "output_type": "display_data"
    }
   ],
   "source": [
    "plt.figure(figsize=(20,10))\n",
    "plt.subplot(1, 2, 1)\n",
    "\n",
    "plt.ylabel('Loss', fontsize=16)\n",
    "plt.plot(history.history['loss'], label='Training Loss')\n",
    "plt.plot(history.history['val_loss'], label='Validation Loss')\n",
    "plt.legend(loc='upper right')\n",
    "\n",
    "plt.subplot(1, 2, 2)\n",
    "plt.ylabel('Accuracy', fontsize=16)\n",
    "plt.plot(history.history['accuracy'], label='Training Accuracy')\n",
    "plt.plot(history.history['val_accuracy'], label='Validation Accuracy')\n",
    "plt.legend(loc='lower right')\n",
    "plt.show()"
   ]
  },
  {
   "cell_type": "code",
   "execution_count": null,
   "metadata": {},
   "outputs": [],
   "source": []
  }
 ],
 "metadata": {
  "kernelspec": {
   "display_name": "Python 3 (ipykernel)",
   "language": "python",
   "name": "python3"
  },
  "language_info": {
   "codemirror_mode": {
    "name": "ipython",
    "version": 3
   },
   "file_extension": ".py",
   "mimetype": "text/x-python",
   "name": "python",
   "nbconvert_exporter": "python",
   "pygments_lexer": "ipython3",
   "version": "3.9.1"
  }
 },
 "nbformat": 4,
 "nbformat_minor": 4
}
